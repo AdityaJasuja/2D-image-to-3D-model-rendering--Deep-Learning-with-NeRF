{
 "cells": [
  {
   "cell_type": "code",
   "execution_count": null,
   "metadata": {},
   "outputs": [],
   "source": [
    "pip install tensorflow"
   ]
  },
  {
   "cell_type": "markdown",
   "metadata": {},
   "source": [
    "<h3>data pipeline</h3>"
   ]
  },
  {
   "cell_type": "code",
   "execution_count": 2,
   "metadata": {},
   "outputs": [],
   "source": [
    "# import the necessary packages\n",
    "from tensorflow.io import read_file\n",
    "from tensorflow.image import decode_jpeg\n",
    "from tensorflow.image import convert_image_dtype\n",
    "from tensorflow.image import resize\n",
    "from tensorflow import reshape\n",
    "import tensorflow as tf\n",
    "import json"
   ]
  },
  {
   "cell_type": "code",
   "execution_count": 4,
   "metadata": {},
   "outputs": [],
   "source": [
    "#Reading json file:"
   ]
  },
  {
   "cell_type": "code",
   "execution_count": 3,
   "metadata": {},
   "outputs": [],
   "source": [
    "def read_json(jsonPath):\n",
    "    # open the json file\n",
    "    with open(jsonPath, \"r\") as fp:\n",
    "        # read the json data\n",
    "        data = json.load(fp)\n",
    "\n",
    "    # return the data\n",
    "    return data"
   ]
  },
  {
   "cell_type": "code",
   "execution_count": 6,
   "metadata": {},
   "outputs": [],
   "source": [
    "#Generating camera-to-world matrices of the particular image from the data"
   ]
  },
  {
   "cell_type": "code",
   "execution_count": 7,
   "metadata": {},
   "outputs": [],
   "source": [
    "def get_image_c2w(jsonData, datasetPath):\n",
    "    # define a list to store the image paths\n",
    "    imagePaths = []\n",
    "\n",
    "    # define a list to store the camera2world matrices\n",
    "    c2ws = []\n",
    "    # iterate over each frame of the data\n",
    "    for frame in jsonData[\"frames\"]:\n",
    "        # grab the image file name\n",
    "        imagePath = frame[\"file_path\"]\n",
    "        imagePath = imagePath.replace(\".\", datasetPath)\n",
    "        imagePaths.append(f\"{imagePath}.png\")\n",
    "        # grab the camera2world matrix\n",
    "        c2ws.append(frame[\"transform_matrix\"])\n",
    "\n",
    "    # return the image file names and the camera2world matrices\n",
    "    return (imagePaths, c2ws)"
   ]
  },
  {
   "cell_type": "code",
   "execution_count": 8,
   "metadata": {},
   "outputs": [],
   "source": [
    "class GetImages():\n",
    "    def __init__(self, imageWidth, imageHeight):\n",
    "        # define the image width and height\n",
    "        self.imageWidth = imageWidth\n",
    "        self.imageHeight = imageHeight\n",
    "    def __call__(self, imagePath):\n",
    "        # read the image file\n",
    "        image = read_file(imagePath)\n",
    "        # decode the image string\n",
    "        image = decode_jpeg(image, 3)\n",
    "        # convert the image dtype from uint8 to float32\n",
    "        image = convert_image_dtype(image, dtype=tf.float32)\n",
    "        # resize the image to the height and width in config\n",
    "        image = resize(image, (self.imageWidth, self.imageHeight))\n",
    "        image = reshape(image, (self.imageWidth, self.imageHeight, 3))\n",
    "        # return the image\n",
    "        return image"
   ]
  },
  {
   "cell_type": "code",
   "execution_count": null,
   "metadata": {},
   "outputs": [],
   "source": []
  }
 ],
 "metadata": {
  "kernelspec": {
   "display_name": "Python 3",
   "language": "python",
   "name": "python3"
  },
  "language_info": {
   "codemirror_mode": {
    "name": "ipython",
    "version": 3
   },
   "file_extension": ".py",
   "mimetype": "text/x-python",
   "name": "python",
   "nbconvert_exporter": "python",
   "pygments_lexer": "ipython3",
   "version": "3.8.3"
  }
 },
 "nbformat": 4,
 "nbformat_minor": 4
}
